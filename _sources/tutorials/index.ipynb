{
 "cells": [
  {
   "cell_type": "markdown",
   "id": "7e980b2b",
   "metadata": {},
   "source": [
    "# napari tutorials\n",
    "\n",
    "These tutorials will help you explore the main usage modes and methods of\n",
    "napari, and target people who want to use napari. If you are also interested\n",
    "in contributing to napari then please check out our\n",
    "{ref}`contributing guidelines <napari-contributing>`.\n",
    "\n",
    "For help installing napari checkout our\n",
    "[installing napari](../getting_started/installation) tutorial. If this is your first\n",
    "contact with napari, then begin with our\n",
    "[getting started](../getting_started/getting_started) tutorial.\n",
    "\n",
    "## Improving the tutorials\n",
    "\n",
    "Our tutorials are hosted on Github at\n",
    "[napari/napari](https://github.com/napari/napari). If as you're going through\n",
    "the tutorials you spot any errors or can think of ways to improve them please\n",
    "raise an issue on the repository or make a PR, we'd love to have the community\n",
    "help make them better for everyone.\n",
    "\n",
    "[napari tutorials home page](http://www.napari.org/tutorials)\n",
    "\n",
    "\n",
    "\n",
    "```{toctree}\n",
    ":hidden:\n",
    ":titlesonly:\n",
    "\n",
    "\n",
    "segmentation/index\n",
    "tracking/index\n",
    "applications/annotate_points\n",
    "applications/dask\n",
    "further-resources/napari-workshops\n",
    "```"
   ]
  }
 ],
 "metadata": {
  "jupytext": {
   "text_representation": {
    "extension": ".md",
    "format_name": "myst",
    "format_version": 0.13,
    "jupytext_version": "1.10.3"
   }
  },
  "kernelspec": {
   "display_name": "Python 3",
   "language": "python",
   "name": "python3"
  },
  "language_info": {
   "codemirror_mode": {
    "name": "ipython",
    "version": 3
   },
   "file_extension": ".py",
   "mimetype": "text/x-python",
   "name": "python",
   "nbconvert_exporter": "python",
   "pygments_lexer": "ipython3",
   "version": "3.8.12"
  },
  "source_map": [
   12
  ]
 },
 "nbformat": 4,
 "nbformat_minor": 5
}